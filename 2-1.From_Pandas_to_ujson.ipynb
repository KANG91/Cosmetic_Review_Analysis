{
 "cells": [
  {
   "cell_type": "code",
   "execution_count": 16,
   "metadata": {},
   "outputs": [],
   "source": [
    "import pandas as pd\n",
    "import json"
   ]
  },
  {
   "cell_type": "code",
   "execution_count": 3,
   "metadata": {},
   "outputs": [],
   "source": [
    "pandas = pd.read_excel(\"reviews_after_del_similar.xlsx\")"
   ]
  },
  {
   "cell_type": "code",
   "execution_count": 4,
   "metadata": {},
   "outputs": [
    {
     "data": {
      "text/html": [
       "<div>\n",
       "<style scoped>\n",
       "    .dataframe tbody tr th:only-of-type {\n",
       "        vertical-align: middle;\n",
       "    }\n",
       "\n",
       "    .dataframe tbody tr th {\n",
       "        vertical-align: top;\n",
       "    }\n",
       "\n",
       "    .dataframe thead th {\n",
       "        text-align: right;\n",
       "    }\n",
       "</style>\n",
       "<table border=\"1\" class=\"dataframe\">\n",
       "  <thead>\n",
       "    <tr style=\"text-align: right;\">\n",
       "      <th></th>\n",
       "      <th>user_id</th>\n",
       "      <th>channel</th>\n",
       "      <th>option</th>\n",
       "      <th>review</th>\n",
       "      <th>membership</th>\n",
       "    </tr>\n",
       "  </thead>\n",
       "  <tbody>\n",
       "    <tr>\n",
       "      <th>0</th>\n",
       "      <td>kanade486</td>\n",
       "      <td>MOBILE</td>\n",
       "      <td>진주</td>\n",
       "      <td>맨날 쓰던 것만 썼는데 진주가 은근히 평이 좋더라구요. 그래서 사봤는데 꽤 괜찮네요...</td>\n",
       "      <td>일반</td>\n",
       "    </tr>\n",
       "    <tr>\n",
       "      <th>1</th>\n",
       "      <td>kanade486</td>\n",
       "      <td>MOBILE</td>\n",
       "      <td>오이</td>\n",
       "      <td>오이 좋아하는데 은은한 오이향이 나서 더 좋아하는 제품이에요. 반대로 오이 싫어하시...</td>\n",
       "      <td>일반</td>\n",
       "    </tr>\n",
       "    <tr>\n",
       "      <th>2</th>\n",
       "      <td>kanade486</td>\n",
       "      <td>MOBILE</td>\n",
       "      <td>쑥</td>\n",
       "      <td>화해 어플에서 상위권에 올라있더라고요. 세일이나 행사도 자주해서 저렴하니 부담없이 ...</td>\n",
       "      <td>일반</td>\n",
       "    </tr>\n",
       "    <tr>\n",
       "      <th>3</th>\n",
       "      <td>kanade486</td>\n",
       "      <td>MOBILE</td>\n",
       "      <td>티트리(오리지널)</td>\n",
       "      <td>제가 피부에 열이 많고 잘 빨개지는 편이에요. 요즘 엄청난 폭염 때문에 더 심해지고...</td>\n",
       "      <td>일반</td>\n",
       "    </tr>\n",
       "    <tr>\n",
       "      <th>4</th>\n",
       "      <td>kanade486</td>\n",
       "      <td>MOBILE</td>\n",
       "      <td>티트리</td>\n",
       "      <td>향이 좋습니다 은은하니 부담스럽지 않아요 팩하면서 뭔가 힐링하는 기분이에요 ㅎㅎ 트...</td>\n",
       "      <td>일반</td>\n",
       "    </tr>\n",
       "  </tbody>\n",
       "</table>\n",
       "</div>"
      ],
      "text/plain": [
       "     user_id channel     option  \\\n",
       "0  kanade486  MOBILE         진주   \n",
       "1  kanade486  MOBILE         오이   \n",
       "2  kanade486  MOBILE          쑥   \n",
       "3  kanade486  MOBILE  티트리(오리지널)   \n",
       "4  kanade486  MOBILE        티트리   \n",
       "\n",
       "                                              review membership  \n",
       "0  맨날 쓰던 것만 썼는데 진주가 은근히 평이 좋더라구요. 그래서 사봤는데 꽤 괜찮네요...         일반  \n",
       "1  오이 좋아하는데 은은한 오이향이 나서 더 좋아하는 제품이에요. 반대로 오이 싫어하시...         일반  \n",
       "2  화해 어플에서 상위권에 올라있더라고요. 세일이나 행사도 자주해서 저렴하니 부담없이 ...         일반  \n",
       "3  제가 피부에 열이 많고 잘 빨개지는 편이에요. 요즘 엄청난 폭염 때문에 더 심해지고...         일반  \n",
       "4  향이 좋습니다 은은하니 부담스럽지 않아요 팩하면서 뭔가 힐링하는 기분이에요 ㅎㅎ 트...         일반  "
      ]
     },
     "execution_count": 4,
     "metadata": {},
     "output_type": "execute_result"
    }
   ],
   "source": [
    "pandas.head()"
   ]
  },
  {
   "cell_type": "code",
   "execution_count": 71,
   "metadata": {},
   "outputs": [],
   "source": [
    "all_info = []\n",
    "\n",
    "for i in range(len(pandas)): \n",
    "    customer = OrderedDict()\n",
    "    customer[\"user_id\"] = pandas[\"user_id\"][i]\n",
    "    customer[\"channel\"] = pandas[\"channel\"][i]\n",
    "    customer[\"option\"] = pandas[\"option\"][i]\n",
    "    customer[\"review\"] = pandas[\"review\"][i]\n",
    "    customer[\"membership\"] = pandas[\"membership\"][i]\n",
    "    all_info.append(customer) \n",
    "    \n",
    "    \n",
    "    "
   ]
  },
  {
   "cell_type": "code",
   "execution_count": 77,
   "metadata": {},
   "outputs": [],
   "source": [
    "with open(\"./reviews_after_del_similar.txt\", \"w\", encoding = \"utf-8\") as output_file : \n",
    "    json.dump(all_info, output_file, ensure_ascii = False)"
   ]
  }
 ],
 "metadata": {
  "kernelspec": {
   "display_name": "Python 3",
   "language": "python",
   "name": "python3"
  },
  "language_info": {
   "codemirror_mode": {
    "name": "ipython",
    "version": 3
   },
   "file_extension": ".py",
   "mimetype": "text/x-python",
   "name": "python",
   "nbconvert_exporter": "python",
   "pygments_lexer": "ipython3",
   "version": "3.6.5"
  }
 },
 "nbformat": 4,
 "nbformat_minor": 2
}
