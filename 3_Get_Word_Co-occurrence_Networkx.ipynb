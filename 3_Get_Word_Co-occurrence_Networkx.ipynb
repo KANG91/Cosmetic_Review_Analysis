{
 "cells": [
  {
   "cell_type": "code",
   "execution_count": null,
   "metadata": {},
   "outputs": [],
   "source": [
    "from operator import itemgetter\n",
    "from itertools import combinations\n",
    "from sklearn.feature_extraction.text import CountVectorizer\n",
    "from scipy.spatial.distance import pdist\n",
    "from scipy.spatial.distance import squareform\n",
    "import numpy as np\n",
    "import pandas as pd\n",
    "\n",
    "from collections import defaultdict\n",
    "import re\n",
    "from konlpy.tag import Komoran\n",
    "\n",
    "import time"
   ]
  },
  {
   "cell_type": "code",
   "execution_count": null,
   "metadata": {},
   "outputs": [],
   "source": [
    "reviews = pd.read_excel(\"reviews_after_del_similar.xlsx\")"
   ]
  },
  {
   "cell_type": "code",
   "execution_count": null,
   "metadata": {
    "scrolled": true
   },
   "outputs": [],
   "source": [
    "reviews.head()"
   ]
  },
  {
   "cell_type": "code",
   "execution_count": null,
   "metadata": {},
   "outputs": [],
   "source": [
    "FEATURE_POSES = [\"NNG\", \"NNP\", \"VV\", \"VA\", \"XR\"]\n",
    "JAVA_PATH = \"C:/Program Files/Java/jre1.8.0_181/bin/server/jvm.dll\"\n",
    "komoran = Komoran(jvmpath = JAVA_PATH)"
   ]
  },
  {
   "cell_type": "code",
   "execution_count": null,
   "metadata": {},
   "outputs": [],
   "source": [
    "def split_sentences(text):\n",
    "    all_sentences = []\n",
    "    lines = [line for line in text.strip().splitlines() if line.strip]\n",
    "    for line in lines:\n",
    "        sentences = re.split(\"(?<=[.?!])\\s+\", line)\n",
    "        all_sentences += sentences\n",
    "    return all_sentences\n"
   ]
  },
  {
   "cell_type": "code",
   "execution_count": null,
   "metadata": {},
   "outputs": [],
   "source": [
    "def review_to_morph_anal() : \n",
    "    \"\"\"\n",
    "    input : array 형태의 review\n",
    "    output :  큰 리스트 안에 작은 리스트 안에 형태소 분석 내용\n",
    "    \n",
    "    \"\"\"\n",
    "    analyzed_reviews = []\n",
    "    mid_result = []\n",
    "    \n",
    "    for review in reviews[\"review\"] : \n",
    "        splited_sentence = split_sentences(review)\n",
    "        for splited in splited_sentence :\n",
    "            if len(splited) == 0 :\n",
    "                continue\n",
    "            time.sleep(1)\n",
    "            morph_sentence = komoran.pos(splited.strip())\n",
    "            mid_result.append(morph_sentence)\n",
    "        mid_ls = [mid_one for mid_two in mid_result for mid_one in mid_two]\n",
    "        analyzed_reviews.append(mid_ls)\n",
    "    \n",
    "    return analyzed_reviews\n",
    "    \n",
    "    "
   ]
  },
  {
   "cell_type": "markdown",
   "metadata": {},
   "source": [
    "#### 형태소 분석과정에서 원인 불명의 문제 발생"
   ]
  },
  {
   "cell_type": "code",
   "execution_count": null,
   "metadata": {
    "scrolled": false
   },
   "outputs": [],
   "source": [
    "analyzed_reviews = review_to_morph_anal()"
   ]
  }
 ],
 "metadata": {
  "kernelspec": {
   "display_name": "Python 3",
   "language": "python",
   "name": "python3"
  },
  "language_info": {
   "codemirror_mode": {
    "name": "ipython",
    "version": 3
   },
   "file_extension": ".py",
   "mimetype": "text/x-python",
   "name": "python",
   "nbconvert_exporter": "python",
   "pygments_lexer": "ipython3",
   "version": "3.6.5"
  }
 },
 "nbformat": 4,
 "nbformat_minor": 2
}
