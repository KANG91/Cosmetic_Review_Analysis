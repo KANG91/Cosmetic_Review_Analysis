{
 "cells": [
  {
   "cell_type": "code",
   "execution_count": 2,
   "metadata": {},
   "outputs": [],
   "source": [
    "from operator import itemgetter\n",
    "from itertools import combinations\n",
    "from sklearn.feature_extraction.text import CountVectorizer\n",
    "from scipy.spatial.distance import pdist\n",
    "from scipy.spatial.distance import squareform\n",
    "import numpy as np\n",
    "import pandas as pd\n",
    "from collections import defaultdict\n",
    "import re\n",
    "from konlpy.tag import Komoran\n",
    "import ujson\n",
    "from konlpy.tag import Twitter\n",
    "from konlpy.tag import Kkma"
   ]
  },
  {
   "cell_type": "code",
   "execution_count": 3,
   "metadata": {},
   "outputs": [],
   "source": [
    "reviews = pd.read_excel(\"reviews_after_del_similar.xlsx\")"
   ]
  },
  {
   "cell_type": "code",
   "execution_count": 4,
   "metadata": {
    "scrolled": true
   },
   "outputs": [
    {
     "data": {
      "text/html": [
       "<div>\n",
       "<style scoped>\n",
       "    .dataframe tbody tr th:only-of-type {\n",
       "        vertical-align: middle;\n",
       "    }\n",
       "\n",
       "    .dataframe tbody tr th {\n",
       "        vertical-align: top;\n",
       "    }\n",
       "\n",
       "    .dataframe thead th {\n",
       "        text-align: right;\n",
       "    }\n",
       "</style>\n",
       "<table border=\"1\" class=\"dataframe\">\n",
       "  <thead>\n",
       "    <tr style=\"text-align: right;\">\n",
       "      <th></th>\n",
       "      <th>user_id</th>\n",
       "      <th>channel</th>\n",
       "      <th>option</th>\n",
       "      <th>review</th>\n",
       "      <th>membership</th>\n",
       "    </tr>\n",
       "  </thead>\n",
       "  <tbody>\n",
       "    <tr>\n",
       "      <th>0</th>\n",
       "      <td>kanade486</td>\n",
       "      <td>MOBILE</td>\n",
       "      <td>진주</td>\n",
       "      <td>맨날 쓰던 것만 썼는데 진주가 은근히 평이 좋더라구요. 그래서 사봤는데 꽤 괜찮네요...</td>\n",
       "      <td>일반</td>\n",
       "    </tr>\n",
       "    <tr>\n",
       "      <th>1</th>\n",
       "      <td>kanade486</td>\n",
       "      <td>MOBILE</td>\n",
       "      <td>오이</td>\n",
       "      <td>오이 좋아하는데 은은한 오이향이 나서 더 좋아하는 제품이에요. 반대로 오이 싫어하시...</td>\n",
       "      <td>일반</td>\n",
       "    </tr>\n",
       "    <tr>\n",
       "      <th>2</th>\n",
       "      <td>kanade486</td>\n",
       "      <td>MOBILE</td>\n",
       "      <td>쑥</td>\n",
       "      <td>화해 어플에서 상위권에 올라있더라고요. 세일이나 행사도 자주해서 저렴하니 부담없이 ...</td>\n",
       "      <td>일반</td>\n",
       "    </tr>\n",
       "    <tr>\n",
       "      <th>3</th>\n",
       "      <td>kanade486</td>\n",
       "      <td>MOBILE</td>\n",
       "      <td>티트리(오리지널)</td>\n",
       "      <td>제가 피부에 열이 많고 잘 빨개지는 편이에요. 요즘 엄청난 폭염 때문에 더 심해지고...</td>\n",
       "      <td>일반</td>\n",
       "    </tr>\n",
       "    <tr>\n",
       "      <th>4</th>\n",
       "      <td>kanade486</td>\n",
       "      <td>MOBILE</td>\n",
       "      <td>티트리</td>\n",
       "      <td>향이 좋습니다 은은하니 부담스럽지 않아요 팩하면서 뭔가 힐링하는 기분이에요 ㅎㅎ 트...</td>\n",
       "      <td>일반</td>\n",
       "    </tr>\n",
       "  </tbody>\n",
       "</table>\n",
       "</div>"
      ],
      "text/plain": [
       "     user_id channel     option  \\\n",
       "0  kanade486  MOBILE         진주   \n",
       "1  kanade486  MOBILE         오이   \n",
       "2  kanade486  MOBILE          쑥   \n",
       "3  kanade486  MOBILE  티트리(오리지널)   \n",
       "4  kanade486  MOBILE        티트리   \n",
       "\n",
       "                                              review membership  \n",
       "0  맨날 쓰던 것만 썼는데 진주가 은근히 평이 좋더라구요. 그래서 사봤는데 꽤 괜찮네요...         일반  \n",
       "1  오이 좋아하는데 은은한 오이향이 나서 더 좋아하는 제품이에요. 반대로 오이 싫어하시...         일반  \n",
       "2  화해 어플에서 상위권에 올라있더라고요. 세일이나 행사도 자주해서 저렴하니 부담없이 ...         일반  \n",
       "3  제가 피부에 열이 많고 잘 빨개지는 편이에요. 요즘 엄청난 폭염 때문에 더 심해지고...         일반  \n",
       "4  향이 좋습니다 은은하니 부담스럽지 않아요 팩하면서 뭔가 힐링하는 기분이에요 ㅎㅎ 트...         일반  "
      ]
     },
     "execution_count": 4,
     "metadata": {},
     "output_type": "execute_result"
    }
   ],
   "source": [
    "reviews.head()"
   ]
  },
  {
   "cell_type": "code",
   "execution_count": 5,
   "metadata": {},
   "outputs": [],
   "source": [
    "FEATURE_POSES = [\"NNG\", \"NNP\", \"VV\", \"VA\", \"XR\"]\n",
    "JAVA_PATH = \"C:/Program Files/Java/jre1.8.0_181/bin/server/jvm.dll\"\n",
    "kkma = Kkma(jvmpath = JAVA_PATH)"
   ]
  },
  {
   "cell_type": "code",
   "execution_count": 6,
   "metadata": {},
   "outputs": [],
   "source": [
    "def split_sentences(text):\n",
    "    all_sentences = []\n",
    "    lines = [line for line in text.strip().splitlines() if line.strip]\n",
    "    for line in lines:\n",
    "        sentences = re.split(\"(?<=[.?!])\\s+\", line)\n",
    "        all_sentences += sentences\n",
    "    return all_sentences\n"
   ]
  },
  {
   "cell_type": "code",
   "execution_count": 7,
   "metadata": {},
   "outputs": [],
   "source": [
    "def review_to_morph_anal() : \n",
    "    \"\"\"\n",
    "    input : array 형태의 review\n",
    "    output :  큰 리스트 안에 작은 리스트 안에 형태소 분석 내용\n",
    "    \n",
    "    \"\"\"\n",
    "    \n",
    "    result = []\n",
    "    \n",
    "    \n",
    "    for idx, review in enumerate(reviews[\"review\"][:20]) : \n",
    "        splited_sentence = split_sentences(review)\n",
    "        for splited in splited_sentence :\n",
    "            if len(splited) == 0 :\n",
    "                continue\n",
    "            morph_sentence = kkma.pos(splited.strip())\n",
    "            morph_dic = {word : morph for word, morph in morph_sentence}\n",
    "#         mid_ls = [mid_one for mid_two in mid_result for mid_one in mid_two]\n",
    "#         analyzed_reviews.append(mid_ls)\n",
    "        \n",
    "        result.append(morph_dic)\n",
    "    return result\n",
    "        \n",
    "    \n",
    "    \n",
    "    "
   ]
  },
  {
   "cell_type": "code",
   "execution_count": 8,
   "metadata": {
    "scrolled": false
   },
   "outputs": [],
   "source": [
    "analyzed_reviews = review_to_morph_anal()"
   ]
  },
  {
   "cell_type": "code",
   "execution_count": null,
   "metadata": {},
   "outputs": [],
   "source": [
    "analyzed"
   ]
  },
  {
   "cell_type": "code",
   "execution_count": 9,
   "metadata": {},
   "outputs": [
    {
     "data": {
      "text/plain": [
       "20"
      ]
     },
     "execution_count": 9,
     "metadata": {},
     "output_type": "execute_result"
    }
   ],
   "source": [
    "len(analyzed_reviews)"
   ]
  },
  {
   "cell_type": "code",
   "execution_count": null,
   "metadata": {},
   "outputs": [],
   "source": [
    "with open(\"./test3.txt\", \"w\", encoding = \"utf-8\") as output_file : \n",
    "    print(ujson.dumps(analyzed_reviews, ensure_ascii = False), file = output_file)"
   ]
  },
  {
   "cell_type": "markdown",
   "metadata": {},
   "source": [
    "#### 형태소 분석과정에서 커널이 자꾸 죽는 현상 발생\n",
    "- \"the kernel appears to have died. It will restart automatically\"\n",
    "- 주피터 노트북으로 실행해서 그럴 수 있다는 이야기를 듣고 파이썬 파일로 만들어 ujson파일로 저장해보려 함"
   ]
  }
 ],
 "metadata": {
  "kernelspec": {
   "display_name": "Python 3",
   "language": "python",
   "name": "python3"
  },
  "language_info": {
   "codemirror_mode": {
    "name": "ipython",
    "version": 3
   },
   "file_extension": ".py",
   "mimetype": "text/x-python",
   "name": "python",
   "nbconvert_exporter": "python",
   "pygments_lexer": "ipython3",
   "version": "3.6.4"
  }
 },
 "nbformat": 4,
 "nbformat_minor": 2
}
