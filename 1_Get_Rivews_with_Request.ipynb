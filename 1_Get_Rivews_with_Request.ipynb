{
 "cells": [
  {
   "cell_type": "code",
   "execution_count": null,
   "metadata": {},
   "outputs": [],
   "source": [
    "import requests\n",
    "from urllib.request import Request, urlopen\n",
    "from bs4 import BeautifulSoup\n",
    "import pandas as pd\n",
    "import json\n",
    "from tqdm import tqdm"
   ]
  },
  {
   "cell_type": "code",
   "execution_count": null,
   "metadata": {},
   "outputs": [],
   "source": [
    "def get_total_number_of_product_reviews(product_URL) : \n",
    "    dom = requests.get(product_URL)\n",
    "    soup = BeautifulSoup(dom.text, \"html.parser\")\n",
    "    result = soup.select_one(\"#li_review_text > a > span\").text\n",
    "    return int(result[1 : -1].replace(',', ''))"
   ]
  },
  {
   "cell_type": "code",
   "execution_count": null,
   "metadata": {},
   "outputs": [],
   "source": [
    "def get_product_number(product_URL) : \n",
    "    start_num = product_URL.find(\"i_sProductcd=\")\n",
    "    product_number = product_URL[start_num + len(\"i_sProductcd=\") : ]\n",
    "    return product_number"
   ]
  },
  {
   "cell_type": "code",
   "execution_count": null,
   "metadata": {
    "scrolled": true
   },
   "outputs": [],
   "source": [
    "def scrape_product_reviews(product_URL) : \n",
    "    df = pd.DataFrame(columns = [\"user_id\", \"channel\", \"option\", \"review\", \"membership\"])\n",
    "\n",
    "    base_URL = 'http://www.aritaum.com/rnl/us/rnl_us_prodUseReviewList_ajax.do?'\n",
    "    \n",
    "    product_number = get_product_number(product_URL)\n",
    "    # Your header information\n",
    "    headers={'X-Requested-With': 'XMLHttpRequest',\n",
    "            'User-Agent': 'Mozilla/5.0 (Macintosh; Intel Mac OS X 10_13_5) AppleWebKit/537.36 (KHTML, like Gecko) Chrome/68.0.3440.84 Safari/537.36',\n",
    "            'Cookie': 'WMONID=VvSHpknJ9-y; org.springframework.web.servlet.i18n.CookieLocaleResolver.LOCALE=ko; noMbrPcId=201808061103160396324; optimizelyEndUserId=oeu1533521275630r0.9608343355438038; RB_PCID=1533521276784304874; _ga=GA1.2.1217811574.1533521278; RB_GUID=60fb2f62-f1e6-41e1-add9-2760ad972ee0; s_cc=true; s_fid=0BCEA2E054A695AF-058F2959B015720A; scs=%7B%22t%22%3A1%7D; spUID=1531043289798945133b142.be16e545; JSESSIONID=00007Pou6Xda22XDiIZ1grtIp0p:189j2deea; _gid=GA1.2.2006749581.1533894461; s_ev8=N; s_ppn=aritaum-kr%5E%EC%87%BC%ED%95%91%5E%EC%83%81%ED%92%88%EC%83%81%EC%84%B8; _aprtetSessId=ry44l; ins-gaSSId=fb91d48f-c4e7-3659-21cc-e84b2c4aae8c_1533898063; _dc_gtm_UA-110770460-4=1; wcs_bt=s_51fdc9a13f4b:1533894577; RB_SSID=c4Ol7dW3W8; _aprtetSessPageSeq=2; insdrSV=4; s_sq=ap-w-aritaum-prd%2Cap-w-aptotal-prd%3D%2526pid%253Daritaum-kr%25255E%2525EC%252587%2525BC%2525ED%252595%252591%25255E%2525EC%252583%252581%2525ED%252592%252588%2525EC%252583%252581%2525EC%252584%2525B8%2526pidt%253D1%2526oid%253Dhttp%25253A%25252F%25252Fwww.aritaum.com%25252Fshop%25252Fpr%25252Fshop_pr_product_view.do%25253Fi_sTmType%25253DPC_HIS_BAK%252526i_sProductcd%25253DP0000000000%2526ot%253DA',\n",
    "            'Referer': product_URL,\n",
    "            'Accept': 'application/json, text/javascript, */*; q=0.01'\n",
    "            }\n",
    "\n",
    "    total_number_reviews = get_total_number_of_product_reviews(product_URL)\n",
    "    print(\"total_number_reviews : \", total_number_reviews)\n",
    "    for i in range(1, round(total_number_reviews/10) + 2):\n",
    "        StartRownum = (i-1) * 10 + 1\n",
    "        EndRownum = StartRownum + 9\n",
    "        data={'i_iNowPageNo': str(i), \n",
    "        'i_iPageSize': '10', \n",
    "        'i_iEndRownum': str(EndRownum), \n",
    "        'i_iRecordCnt': total_number_reviews, \n",
    "        'i_iTotalPageCnt': round(total_number_reviews/10) + 1, \n",
    "        'i_iStartRownum': str(StartRownum), \n",
    "        'i_sProductcd': product_number, \n",
    "        'i_sProdTypecd': '0001',\n",
    "        }\n",
    "        # get response\n",
    "        response = requests.post(url = base_URL, data=data, headers = headers)\n",
    "        data = response.text\n",
    "        dic = json.loads(data)\n",
    "\n",
    "        review_list = dic['object']['useReview']['useReviewList']\n",
    "        for review in review_list:\n",
    "            data = {\n",
    "                \"user_id\" : review['v_userid'], #userid\n",
    "                \"channel\" : review['v_reg_channel'], #channel\n",
    "                \"option\" : review['v_optionnm'], #product option\n",
    "                \"review\" : review[\"v_content\"], #review\n",
    "                \"membership\" : review[\"v_levelnm\"],\n",
    "            }\n",
    "\n",
    "            df.loc[len(df)] = data\n",
    "    \n",
    "    \n",
    "    return df.to_excel(\"./\" + product_number + \".xlsx\", index = False)\n",
    "\n"
   ]
  },
  {
   "cell_type": "code",
   "execution_count": null,
   "metadata": {
    "scrolled": true
   },
   "outputs": [],
   "source": [
    "#아리따움 하트 인 밤\n",
    "Heart_in_Balm = scrape_product_reviews(\"http://www.aritaum.com/shop/pr/shop_pr_product_view.do?i_sProductcd=P0000000000000040625\")"
   ]
  },
  {
   "cell_type": "code",
   "execution_count": null,
   "metadata": {
    "scrolled": true
   },
   "outputs": [],
   "source": [
    "Heart_in_Balm.to_excel()"
   ]
  },
  {
   "cell_type": "markdown",
   "metadata": {},
   "source": [
    "----"
   ]
  }
 ],
 "metadata": {
  "kernelspec": {
   "display_name": "Python 3",
   "language": "python",
   "name": "python3"
  },
  "language_info": {
   "codemirror_mode": {
    "name": "ipython",
    "version": 3
   },
   "file_extension": ".py",
   "mimetype": "text/x-python",
   "name": "python",
   "nbconvert_exporter": "python",
   "pygments_lexer": "ipython3",
   "version": "3.6.4"
  }
 },
 "nbformat": 4,
 "nbformat_minor": 2
}
