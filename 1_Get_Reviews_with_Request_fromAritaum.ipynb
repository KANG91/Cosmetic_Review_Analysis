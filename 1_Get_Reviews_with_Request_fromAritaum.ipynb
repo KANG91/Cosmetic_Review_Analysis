{
 "cells": [
  {
   "cell_type": "code",
   "execution_count": 1,
   "metadata": {},
   "outputs": [],
   "source": [
    "import requests\n",
    "from urllib.request import Request, urlopen\n",
    "from bs4 import BeautifulSoup\n",
    "import pandas as pd\n",
    "import json"
   ]
  },
  {
   "cell_type": "code",
   "execution_count": 2,
   "metadata": {},
   "outputs": [],
   "source": [
    "def get_product_name(product_URL) : \n",
    "    dom = requests.get(product_URL)\n",
    "    soup = BeautifulSoup(dom.text, \"html.parser\")\n",
    "    result = soup.find(\"h1\").text\n",
    "    return result"
   ]
  },
  {
   "cell_type": "code",
   "execution_count": 3,
   "metadata": {},
   "outputs": [],
   "source": [
    "def get_total_number_of_product_reviews(product_URL) : \n",
    "    dom = requests.get(product_URL)\n",
    "    soup = BeautifulSoup(dom.text, \"html.parser\")\n",
    "    result = soup.select_one(\"#li_review_text > a > span\").text\n",
    "    return int(result[1 : -1].replace(',', ''))"
   ]
  },
  {
   "cell_type": "code",
   "execution_count": 4,
   "metadata": {},
   "outputs": [],
   "source": [
    "def get_product_number(product_URL) : \n",
    "    start_num = product_URL.find(\"i_sProductcd=\")\n",
    "    product_number = product_URL[start_num + len(\"i_sProductcd=\") : ]\n",
    "    return product_number"
   ]
  },
  {
   "cell_type": "code",
   "execution_count": 5,
   "metadata": {
    "scrolled": true
   },
   "outputs": [],
   "source": [
    "def scrape_product_reviews(product_URL) : \n",
    "    \n",
    "    print(\"scraping start\")\n",
    "    df = pd.DataFrame(columns = [\"user_id\", \"channel\", \"option\", \"review\", \"membership\", \"recom_point\"])\n",
    "    product_name = get_product_name(product_URL)\n",
    "    base_URL = 'https://www.aritaum.com/rnl/us/rnl_us_prodUseReviewList_ajax.do?'\n",
    "    \n",
    "    product_number = get_product_number(product_URL)\n",
    "    # Your header information\n",
    "    headers={\n",
    "                \"accept\": \"application/json, text/javascript, */*; q=0.01\",\n",
    "                \"accept-encoding\": \"gzip, deflate, br\",\n",
    "                \"accept-language\": \"ko,en-US;q=0.9,en;q=0.8\",\n",
    "                \"content-length\": \"153\",\n",
    "                \"content-type\": \"application/x-www-form-urlencoded; charset=UTF-8\",\n",
    "                \"cookie\": \"WMONID=Da-uQHZZ8Xe; JSESSIONID=9632B74971DD443B60A536EFB06985F7; org.springframework.web.servlet.i18n.CookieLocaleResolver.LOCALE=ko; noMbrPcId=201809231354242473403; optimizelyEndUserId=oeu1537678493225r0.6548219971589961; wcs_bt=s_51fdc9a13f4b:1537678493; _ga=GA1.2.874480751.1537678494; _gid=GA1.2.2130736539.1537678494; RB_PCID=1537678493991619712; RB_SSID=t3VjV19RqL; s_cc=true; s_fid=7E85E19BFC96C086-32251EC3919909F9; s_ev8=N; s_ppn=aritaum-kr%5E%EC%87%BC%ED%95%91%5E%EC%83%81%ED%92%88%EC%83%81%EC%84%B8; _gcl_au=1.1.1649061979.1537678495; RB_GUID=d1d4f3ec-6bf1-4fb3-83eb-641862e83f11; _dc_gtm_UA-110770460-4=1; _aprtetSessId=02kNu; _aprtetSessPageSeq=0; scs=%7B%22t%22%3A1%7D; insdrSV=1; current-currency=KRW; ins-mig-done=1; ins-gaSSId=2a4dad94-b11f-be6e-20c1-4138590514a3_1537682097; spUID=15376784970770b24cee272.8d3270bb; s_sq=ap-w-aritaum-prd%2Cap-w-aptotal-prd%3D%2526pid%253Daritaum-kr%25255E%2525EC%252587%2525BC%2525ED%252595%252591%25255E%2525EC%252583%252581%2525ED%252592%252588%2525EC%252583%252581%2525EC%252584%2525B8%2526pidt%253D1%2526oid%253Dhttps%25253A%25252F%25252Fwww.aritaum.com%25252Fshop%25252Fpr%25252Fshop_pr_product_view.do%25253Fi_sProductcd%25253DP0000000000000000768%252523%2526ot%253DA\",\n",
    "                \"origin\": \"https://www.aritaum.com\",\n",
    "                \"referer\": \"https://www.aritaum.com/shop/pr/shop_pr_product_view.do?i_sProductcd=P0000000000000000768\",\n",
    "                \"user-agent\": \"Mozilla/5.0 (Windows NT 10.0; Win64; x64) AppleWebKit/537.36 (KHTML, like Gecko) Chrome/69.0.3497.100 Safari/537.36\",\n",
    "                \"x-requested-with\": \"XMLHttpRequest\",\n",
    "            }\n",
    "\n",
    "    total_number_reviews = get_total_number_of_product_reviews(product_URL)\n",
    "    print(\"total_number_reviews : \", total_number_reviews)\n",
    "    for i in range(1, round(total_number_reviews/10) + 2):\n",
    "        StartRownum = ( i - 1) * 10 + 1\n",
    "        EndRownum = StartRownum + 9\n",
    "        form_data = {\n",
    "            'i_iNowPageNo': str(i), \n",
    "            'i_iPageSize': '10', \n",
    "            'i_iEndRownum': str(EndRownum), \n",
    "            'i_iRecordCnt': total_number_reviews, \n",
    "            'i_iTotalPageCnt': round(total_number_reviews/10) + 1, \n",
    "            'i_iStartRownum': str(StartRownum), \n",
    "            'i_sProductcd': product_number, \n",
    "            'i_sProdTypecd': '0001',\n",
    "            }\n",
    "        # get response\n",
    "        response = requests.post(url = base_URL, data = form_data, headers = headers)\n",
    "        data = response.text\n",
    "        dic = json.loads(data)\n",
    "\n",
    "        review_list = dic['object']['useReview']['useReviewList']\n",
    "        for review in review_list:\n",
    "            data = {\n",
    "                \"user_id\" : review['v_userid'], #userid\n",
    "                \"channel\" : review['v_reg_channel'], #channel\n",
    "                \"option\" : review['v_optionnm'], #product option\n",
    "                \"review\" : review[\"v_content\"], #review\n",
    "                \"membership\" : review[\"v_levelnm\"],\n",
    "                \"recom_point\" : review[\"n_recom_point\"],\n",
    "                \n",
    "            }\n",
    "\n",
    "            df.loc[len(df)] = data\n",
    "    \n",
    "    print(\"scraping finished\")\n",
    "    return  df.to_csv(path_or_buf = \"Aritaum_\" + product_name + \".csv\", index = False, encoding = \"utf-8-sig\")\n",
    "\n",
    "    "
   ]
  },
  {
   "cell_type": "code",
   "execution_count": null,
   "metadata": {
    "scrolled": true
   },
   "outputs": [
    {
     "name": "stdout",
     "output_type": "stream",
     "text": [
      "scraping start\n",
      "total_number_reviews :  3121\n"
     ]
    }
   ],
   "source": [
    "# 뽀오얀 미소 발효 립 & 아이 리무버\n",
    "scrape_product_reviews(\"http://www.aritaum.com/shop/pr/shop_pr_product_view.do?i_sProductcd=P0000000000000000768\")"
   ]
  },
  {
   "cell_type": "markdown",
   "metadata": {},
   "source": [
    "----"
   ]
  }
 ],
 "metadata": {
  "kernelspec": {
   "display_name": "Python 3",
   "language": "python",
   "name": "python3"
  },
  "language_info": {
   "codemirror_mode": {
    "name": "ipython",
    "version": 3
   },
   "file_extension": ".py",
   "mimetype": "text/x-python",
   "name": "python",
   "nbconvert_exporter": "python",
   "pygments_lexer": "ipython3",
   "version": "3.6.5"
  }
 },
 "nbformat": 4,
 "nbformat_minor": 2
}
