{
 "cells": [
  {
   "cell_type": "code",
   "execution_count": 1,
   "metadata": {
    "collapsed": true
   },
   "outputs": [],
   "source": [
    "import pandas as pd"
   ]
  },
  {
   "cell_type": "code",
   "execution_count": 17,
   "metadata": {},
   "outputs": [],
   "source": [
    "import numpy as np"
   ]
  },
  {
   "cell_type": "code",
   "execution_count": 2,
   "metadata": {
    "collapsed": true
   },
   "outputs": [],
   "source": [
    "Aritaum = pd.read_csv(\"Aritaum_뽀오얀 미소 발효 립 & 아이 리무버.csv\")"
   ]
  },
  {
   "cell_type": "code",
   "execution_count": 4,
   "metadata": {},
   "outputs": [
    {
     "data": {
      "text/html": [
       "<div>\n",
       "<style>\n",
       "    .dataframe thead tr:only-child th {\n",
       "        text-align: right;\n",
       "    }\n",
       "\n",
       "    .dataframe thead th {\n",
       "        text-align: left;\n",
       "    }\n",
       "\n",
       "    .dataframe tbody tr th {\n",
       "        vertical-align: top;\n",
       "    }\n",
       "</style>\n",
       "<table border=\"1\" class=\"dataframe\">\n",
       "  <thead>\n",
       "    <tr style=\"text-align: right;\">\n",
       "      <th></th>\n",
       "      <th>user_id</th>\n",
       "      <th>channel</th>\n",
       "      <th>option</th>\n",
       "      <th>membership</th>\n",
       "      <th>rating</th>\n",
       "      <th>review</th>\n",
       "    </tr>\n",
       "  </thead>\n",
       "  <tbody>\n",
       "    <tr>\n",
       "      <th>0</th>\n",
       "      <td>imy1220</td>\n",
       "      <td>MOBILE</td>\n",
       "      <td>대용량 250ml</td>\n",
       "      <td>스마트클럽</td>\n",
       "      <td>5</td>\n",
       "      <td>진짜 몇통째 사서 쓰고 있는지 모르겠어요 순하고 잘 지워지고 다른 거 사용하다가도 ...</td>\n",
       "    </tr>\n",
       "    <tr>\n",
       "      <th>1</th>\n",
       "      <td>coco7346</td>\n",
       "      <td>MOBILE</td>\n",
       "      <td>대용량 250ml</td>\n",
       "      <td>스마트클럽</td>\n",
       "      <td>5</td>\n",
       "      <td>행사하면 무조건 쟁이게 되는 템이에요!! 아이메이크업 지우다가 내용물이 눈 안으로 ...</td>\n",
       "    </tr>\n",
       "    <tr>\n",
       "      <th>2</th>\n",
       "      <td>smlove2465</td>\n",
       "      <td>MOBILE</td>\n",
       "      <td>일반용량 120ml</td>\n",
       "      <td>일반</td>\n",
       "      <td>5</td>\n",
       "      <td>항상 잘 쓰고있어요</td>\n",
       "    </tr>\n",
       "    <tr>\n",
       "      <th>3</th>\n",
       "      <td>necklace37</td>\n",
       "      <td>MOBILE</td>\n",
       "      <td>대용량 250ml</td>\n",
       "      <td>스마트클럽</td>\n",
       "      <td>5</td>\n",
       "      <td>매번 이것망 이용하고 있어요. 저는 좀 민감한 편이라 그런지 머르겠는데 다른 것들을...</td>\n",
       "    </tr>\n",
       "    <tr>\n",
       "      <th>4</th>\n",
       "      <td>woouk747</td>\n",
       "      <td>MOBILE</td>\n",
       "      <td>대용량 250ml</td>\n",
       "      <td>프라임</td>\n",
       "      <td>5</td>\n",
       "      <td>저자극이라서 쓰기 너무 좋아요!!눈에 들어가도 따갑지 않고 깨끗하게 잘 지워져서 몇...</td>\n",
       "    </tr>\n",
       "  </tbody>\n",
       "</table>\n",
       "</div>"
      ],
      "text/plain": [
       "      user_id channel      option membership  rating  \\\n",
       "0     imy1220  MOBILE   대용량 250ml      스마트클럽       5   \n",
       "1    coco7346  MOBILE   대용량 250ml      스마트클럽       5   \n",
       "2  smlove2465  MOBILE  일반용량 120ml         일반       5   \n",
       "3  necklace37  MOBILE   대용량 250ml      스마트클럽       5   \n",
       "4    woouk747  MOBILE   대용량 250ml        프라임       5   \n",
       "\n",
       "                                              review  \n",
       "0  진짜 몇통째 사서 쓰고 있는지 모르겠어요 순하고 잘 지워지고 다른 거 사용하다가도 ...  \n",
       "1  행사하면 무조건 쟁이게 되는 템이에요!! 아이메이크업 지우다가 내용물이 눈 안으로 ...  \n",
       "2                                         항상 잘 쓰고있어요  \n",
       "3  매번 이것망 이용하고 있어요. 저는 좀 민감한 편이라 그런지 머르겠는데 다른 것들을...  \n",
       "4  저자극이라서 쓰기 너무 좋아요!!눈에 들어가도 따갑지 않고 깨끗하게 잘 지워져서 몇...  "
      ]
     },
     "execution_count": 4,
     "metadata": {},
     "output_type": "execute_result"
    }
   ],
   "source": [
    "Aritaum.head()"
   ]
  },
  {
   "cell_type": "code",
   "execution_count": 5,
   "metadata": {},
   "outputs": [
    {
     "data": {
      "text/plain": [
       "PC        1430\n",
       "MOBILE    1410\n",
       "APP        281\n",
       "Name: channel, dtype: int64"
      ]
     },
     "execution_count": 5,
     "metadata": {},
     "output_type": "execute_result"
    }
   ],
   "source": [
    "Aritaum[\"channel\"].value_counts()"
   ]
  },
  {
   "cell_type": "markdown",
   "metadata": {},
   "source": [
    "#### comment\n",
    "- PC, MOBILE을 통한 사용자가 매우 많고, APP을 통한 사용자가 매우 적음"
   ]
  },
  {
   "cell_type": "code",
   "execution_count": 6,
   "metadata": {},
   "outputs": [
    {
     "data": {
      "text/plain": [
       "대용량 250ml                2101\n",
       "일반용량 120ml                659\n",
       "일반용량                      354\n",
       "대용량 250ml!!일반용량             4\n",
       "대용량 250ml!!일반용량 120ml       3\n",
       "Name: option, dtype: int64"
      ]
     },
     "execution_count": 6,
     "metadata": {},
     "output_type": "execute_result"
    }
   ],
   "source": [
    "Aritaum[\"option\"].value_counts()"
   ]
  },
  {
   "cell_type": "markdown",
   "metadata": {},
   "source": [
    "#### comment\n",
    "- 대부분의 구매자가 대용량을 구매\n",
    "- 네이밍에 오타가 있는 내용들도 존재"
   ]
  },
  {
   "cell_type": "code",
   "execution_count": 7,
   "metadata": {},
   "outputs": [
    {
     "data": {
      "text/plain": [
       "일반       2059\n",
       "스마트클럽     674\n",
       "프라임       302\n",
       "VIP        86\n",
       "Name: membership, dtype: int64"
      ]
     },
     "execution_count": 7,
     "metadata": {},
     "output_type": "execute_result"
    }
   ],
   "source": [
    "Aritaum[\"membership\"].value_counts()"
   ]
  },
  {
   "cell_type": "code",
   "execution_count": 8,
   "metadata": {},
   "outputs": [
    {
     "data": {
      "text/plain": [
       "5    2744\n",
       "4     285\n",
       "3      68\n",
       "2      15\n",
       "1       9\n",
       "Name: rating, dtype: int64"
      ]
     },
     "execution_count": 8,
     "metadata": {},
     "output_type": "execute_result"
    }
   ],
   "source": [
    "Aritaum[\"rating\"].value_counts()"
   ]
  },
  {
   "cell_type": "code",
   "execution_count": 19,
   "metadata": {},
   "outputs": [
    {
     "data": {
      "text/plain": [
       "4.8391541172701054"
      ]
     },
     "execution_count": 19,
     "metadata": {},
     "output_type": "execute_result"
    }
   ],
   "source": [
    "np.average(Aritaum[\"rating\"])"
   ]
  },
  {
   "cell_type": "markdown",
   "metadata": {},
   "source": [
    "----"
   ]
  },
  {
   "cell_type": "code",
   "execution_count": 9,
   "metadata": {
    "collapsed": true
   },
   "outputs": [],
   "source": [
    "Glowpick = pd.read_csv(\"GlowPick_뽀오얀 미소 발효 립&아이 리무버.csv\")"
   ]
  },
  {
   "cell_type": "code",
   "execution_count": 10,
   "metadata": {},
   "outputs": [
    {
     "data": {
      "text/html": [
       "<div>\n",
       "<style>\n",
       "    .dataframe thead tr:only-child th {\n",
       "        text-align: right;\n",
       "    }\n",
       "\n",
       "    .dataframe thead th {\n",
       "        text-align: left;\n",
       "    }\n",
       "\n",
       "    .dataframe tbody tr th {\n",
       "        vertical-align: top;\n",
       "    }\n",
       "</style>\n",
       "<table border=\"1\" class=\"dataframe\">\n",
       "  <thead>\n",
       "    <tr style=\"text-align: right;\">\n",
       "      <th></th>\n",
       "      <th>user_id</th>\n",
       "      <th>review_count</th>\n",
       "      <th>skin_type</th>\n",
       "      <th>age</th>\n",
       "      <th>rating</th>\n",
       "      <th>review</th>\n",
       "    </tr>\n",
       "  </thead>\n",
       "  <tbody>\n",
       "    <tr>\n",
       "      <th>0</th>\n",
       "      <td>카리렝가</td>\n",
       "      <td>33</td>\n",
       "      <td>지성</td>\n",
       "      <td>24</td>\n",
       "      <td>4</td>\n",
       "      <td>무난하게 잘 지워져요 조금 많이 기름지긴 해요</td>\n",
       "    </tr>\n",
       "    <tr>\n",
       "      <th>1</th>\n",
       "      <td>세후닝</td>\n",
       "      <td>146</td>\n",
       "      <td>복합성</td>\n",
       "      <td>37</td>\n",
       "      <td>4</td>\n",
       "      <td>이가격에  이정도 세정력이면 \\n저는 그냥 쓸거같아요 \\n향은 거의없는편이고요 솜에...</td>\n",
       "    </tr>\n",
       "    <tr>\n",
       "      <th>2</th>\n",
       "      <td>전꿀꿀</td>\n",
       "      <td>13</td>\n",
       "      <td>건성</td>\n",
       "      <td>20</td>\n",
       "      <td>2</td>\n",
       "      <td>눈따갑고 먼가 찝찝한느낌</td>\n",
       "    </tr>\n",
       "    <tr>\n",
       "      <th>3</th>\n",
       "      <td>pmk619</td>\n",
       "      <td>25</td>\n",
       "      <td>복합성</td>\n",
       "      <td>33</td>\n",
       "      <td>3</td>\n",
       "      <td>화장솜에 묻혀 눈에 쫌 올려둔뒤 쓰윽 닦으면 잘 지워지긴해요\\n근데 눈에 들어가면 ...</td>\n",
       "    </tr>\n",
       "    <tr>\n",
       "      <th>4</th>\n",
       "      <td>키리리니니ㅐ</td>\n",
       "      <td>45</td>\n",
       "      <td>복합성</td>\n",
       "      <td>30</td>\n",
       "      <td>5</td>\n",
       "      <td>리무버 기능 좋다고 추천있길래 1+1 기다렸다가 바로 샀는데 신기하게 저렴한데도 좋...</td>\n",
       "    </tr>\n",
       "  </tbody>\n",
       "</table>\n",
       "</div>"
      ],
      "text/plain": [
       "  user_id  review_count skin_type  age  rating  \\\n",
       "0    카리렝가            33        지성   24       4   \n",
       "1     세후닝           146       복합성   37       4   \n",
       "2     전꿀꿀            13        건성   20       2   \n",
       "3  pmk619            25       복합성   33       3   \n",
       "4  키리리니니ㅐ            45       복합성   30       5   \n",
       "\n",
       "                                              review  \n",
       "0                          무난하게 잘 지워져요 조금 많이 기름지긴 해요  \n",
       "1  이가격에  이정도 세정력이면 \\n저는 그냥 쓸거같아요 \\n향은 거의없는편이고요 솜에...  \n",
       "2                                      눈따갑고 먼가 찝찝한느낌  \n",
       "3  화장솜에 묻혀 눈에 쫌 올려둔뒤 쓰윽 닦으면 잘 지워지긴해요\\n근데 눈에 들어가면 ...  \n",
       "4  리무버 기능 좋다고 추천있길래 1+1 기다렸다가 바로 샀는데 신기하게 저렴한데도 좋...  "
      ]
     },
     "execution_count": 10,
     "metadata": {},
     "output_type": "execute_result"
    }
   ],
   "source": [
    "Glowpick.head()"
   ]
  },
  {
   "cell_type": "code",
   "execution_count": 13,
   "metadata": {},
   "outputs": [
    {
     "data": {
      "text/plain": [
       "복합성    1419\n",
       "건성      829\n",
       "지성      457\n",
       "민감성     348\n",
       "중성      205\n",
       "Name: skin_type, dtype: int64"
      ]
     },
     "execution_count": 13,
     "metadata": {},
     "output_type": "execute_result"
    }
   ],
   "source": [
    "Glowpick[\"skin_type\"].value_counts()"
   ]
  },
  {
   "cell_type": "code",
   "execution_count": 21,
   "metadata": {},
   "outputs": [
    {
     "data": {
      "text/plain": [
       "4    1265\n",
       "5    1032\n",
       "3     615\n",
       "2     279\n",
       "1      67\n",
       "Name: rating, dtype: int64"
      ]
     },
     "execution_count": 21,
     "metadata": {},
     "output_type": "execute_result"
    }
   ],
   "source": [
    "Glowpick[\"rating\"].value_counts()"
   ]
  },
  {
   "cell_type": "code",
   "execution_count": 20,
   "metadata": {},
   "outputs": [
    {
     "data": {
      "text/plain": [
       "3.8950276243093924"
      ]
     },
     "execution_count": 20,
     "metadata": {},
     "output_type": "execute_result"
    }
   ],
   "source": [
    "np.average(Glowpick[\"rating\"])"
   ]
  },
  {
   "cell_type": "code",
   "execution_count": 22,
   "metadata": {
    "collapsed": true
   },
   "outputs": [],
   "source": [
    "from konlpy.tag import Komoran"
   ]
  },
  {
   "cell_type": "code",
   "execution_count": 23,
   "metadata": {
    "collapsed": true
   },
   "outputs": [],
   "source": [
    "komoran = Komoran()"
   ]
  },
  {
   "cell_type": "code",
   "execution_count": 24,
   "metadata": {
    "collapsed": true
   },
   "outputs": [],
   "source": [
    "g_review = Glowpick[\"review\"]"
   ]
  },
  {
   "cell_type": "code",
   "execution_count": 40,
   "metadata": {},
   "outputs": [
    {
     "data": {
      "text/plain": [
       "'무난하게 잘 지워져요 조금 많이 기름지긴 해요'"
      ]
     },
     "execution_count": 40,
     "metadata": {},
     "output_type": "execute_result"
    }
   ],
   "source": [
    "g_review[0]"
   ]
  },
  {
   "cell_type": "code",
   "execution_count": 43,
   "metadata": {
    "scrolled": false
   },
   "outputs": [
    {
     "name": "stdout",
     "output_type": "stream",
     "text": [
      "**************************************************\n",
      "무난하게 잘 지워져요 조금 많이 기름지긴 해요\n",
      "무난/XR 하/XSA 게/EC 잘/MAG 지우/VV 어/EC 지/VX 어요/EC 조금/MAG 많이/MAG 기름지/VA 기/ETN ㄴ/JX 하/VV 아요/EC \n",
      "**************************************************\n",
      "이가격에  이정도 세정력이면 \n",
      "저는 그냥 쓸거같아요 \n",
      "향은 거의없는편이고요 솜에  듬뿍 묻혀서 두세번정도 문질러주면 잘 닦여요\n",
      "눈에 들어가도  따갑지않구요\n",
      "이/MM 가격/NNG 에/JKB 이/MM 정도/NNG 세/MM 정력/NNG 이/VCP 면/EC 저/NP 는/JX 그냥/MAG 쓰/VV ㄹ/ETM 거/NNB 같/VA 아요/EC 향/NNG 은/JX 거의/MAG 없/VA 는/ETM 편/NNB 이/VCP 고요/EC 솜/NNG 에/JKB 듬뿍/MAG 묻히/VV 어서/EC 두세/MM 번/NNB 정도/NNG 문지르/VV 어/EC 주/VX 면/EC 잘/MAG 닦이/VV 어요/EC 눈/NNG 에/JKB 들어가/VV 아도/EC 따갑/VA 지/EC 않/VX 구요/EC \n",
      "**************************************************\n",
      "눈따갑고 먼가 찝찝한느낌\n",
      "눈/NNG 따갑/VA 고/EC 멀/VA ㄴ가/EC 찝찝한느낌/NA \n",
      "**************************************************\n",
      "화장솜에 묻혀 눈에 쫌 올려둔뒤 쓰윽 닦으면 잘 지워지긴해요\n",
      "근데 눈에 들어가면 쫌 시리고 따가워요 ㅜㅜ\n",
      "화장/NNG 솜/NNG 에/JKB 묻히/VV 어/EC 눈/NNG 에/JKB 쪼/VV ㅁ/ETN 올리/VV 어/EC 두/VX ㄴ/ETM 뒤/NNG 쓰윽/MAG 닦/VV 으면/EC 잘/MAG 지우/VV 어/EC 지/VX 기/ETN ㄴ/JX 하/VV 아요/EC 근데/MAJ 눈/NNG 에/JKB 들어가/VV 면/EC 쪼/VV ㅁ/ETN 시리/VA 고/EC 따갑/VA 어요/EC ㅜㅜ/NA \n",
      "**************************************************\n",
      "리무버 기능 좋다고 추천있길래 1+1 기다렸다가 바로 샀는데 신기하게 저렴한데도 좋아요\n",
      "잘 지워지고\n",
      "한번 하고 눈 시리고 피부따갑고 그런제품들 있는데 이건 순해요\n",
      "리무버/NNG 기능/NNG 좋/VA 다고/EC 추천/NNG 있/VV 길래/EC 1/SN +/SW 1/SN 기다리/VV 었/EP 다가/EC 바로/MAG 사/VV 았/EP 는데/EC 신기/XR 하/XSA 게/EC 저렴/XR 하/XSA ㄴ데/EC 도/JX 좋/VA 아요/EC 잘/MAG 지우/VV 어/EC 지/VX 고/EC 한번/NNG 하/VV 고/EC 눈/NNG 시리/VA 고/EC 피부/NNG 따갑/VA 고/EC 그런/MM 제품/NNG 들/XSN 있/VV 는데/EC 이것/NP ㄴ/JX 순/NNG 하/XSV 아요/EC \n",
      "**************************************************\n",
      "무난무난 딱히 나쁜 점 없이 잘 썼어요\n",
      "무난/XR 무난/XR 딱히/MAG 나쁘/VA ㄴ/ETM 점/NNB 없이/MAG 잘/MAG 쓰/VV 었/EP 어요/EC \n",
      "**************************************************\n",
      "존에 워낙 유명하길래 샀는데 그냥 무난한 것 같아요..!  바로 슥 지워지진 않지만 두번 정도면 다 깨끗하게 지워져요. 냄새가 거의 없어서 좋았어요.\n",
      "존/NNP 에/JKB 워낙/MAG 유명/XR 하/XSA 길래/EC 사/VV 았/EP 는데/EC 그냥/MAG 무난/XR 하/XSA ㄴ/ETM 것/NNB 같/VA 아요/EC ../SE !/SF 바로/MAG 슥/NA 지우/VV 어/EC 지/VX 지/EC ㄴ/JX 않/VX 지만/EC 두/MM 번/NNB 정도/NNG 이/VCP 면/EC 다/MAG 깨끗/XR 하/XSA 게/EC 지우/VV 어/EC 지/VX 어요/EF ./SF 냄새/NNG 가/JKS 거의/MAG 없/VA 어서/EC 좋/VA 았/EP 어요/EF ./SF \n",
      "**************************************************\n",
      "눈에 들어갔을 때 좀 불편하긴 해요ㅠ! 세정력은 솔직히 잘 모르겠어요 마스카라 지우기 너무 힘든..\n",
      "눈/NNG 에/JKB 들어가/VV 았/EP 을/ETM 때/NNG 좀/MAG 불편/NNG 하/XSV 기/ETN ㄴ/JX 해요ㅠ!/NA 세/MM 정력/NNG 은/JX 솔직히/MAG 잘/MAG 모르/VV 겠/EP 어요/EC 마스카라/NNG 지우/VV 기/ETN 너무/MAG 힘/NNG 이/VCP 든/EF ./SF ./SF \n",
      "**************************************************\n",
      "원플원하는데다가 용량도 커서 가성비 생각하고 샀는데, 엄청 잘지워지는것같진않고 몇번 문지르면 사라져요! 아리따움 픽서랑 페리페라 잉크마스카라는 몇번 문질문질해도 남아있는정도ㅠㅠ 세정력이 매우좋다는느낌은 없지만 여러번 문지르면 다 지워지는..?\n",
      "원/NNB 프/VX ㄹ/ETM 원/NNB 하/XSA 는데다가/EC 용량/NNG 도/JX 크/VA 어서/EC 가/XPN 성비/NNG 생각/NNG 하/XSV 고/EC 사/VV 았/EP 는데/EC ,/SP 엄청/MAG 잘/MAG 지우/VV 어/EC 지/VX 는/ETM 것/NNB 같/VA 지/EC ㄴ/JX 않/VX 고/EC 몇/MM 번/NNB 문지르/VV 면/EC 사라지/VV 어요/EF !/SF 아리땁/VA ㅁ/ETN 픽/MAG 서/NNG 랑/JKB 페리페라/NNP 잉크/NNG 마스카라/NNG 는/JX 몇/MM 번/NNB 문/NNG 질문/NNG 질/XSN 하/XSV 아도/EC 남아있는정도ㅠㅠ/NA 세/MM 정력/NNG 이/JKS 매우/MAG 좋/VA 다는/ETM 느낌/NNG 은/JX 없/VA 지만/EC 여러/MM 번/NNB 문지르/VV 면/EC 다/MAG 지우/VV 어/EC 지/VX 는/ETM ../SE ?/SF \n",
      "**************************************************\n",
      "1+1할때 샀지만\n",
      "죄송 별로에요\n",
      "한통 꾸역꾸역 비우고 두통째 쓰고있는데 힘드네요 ㅎ ㅎ\n",
      "\n",
      "잘지워지는편은 아니에요\n",
      "눈에 들어간적은 없어서 따가운것까진 모르겠어요\n",
      "\n",
      "제생각인지 모르겠지만 아리따움에서\n",
      "마몽드 밑이라고 생각하는 아리따움붙은 제품은 이제 안사렵니다\n",
      "싼건 좋지만, 싸다고 다 좋은건 아니더라구요.\n",
      "차라리 비슷한가격대의  타 브랜드 것을 사는게 실패하지 않는것 같아서요\n",
      "\n",
      "아리따움 미안\n",
      "1/SN +/SW 1/SN 할/NNB 때/NNG 사/VV 았/EP 지만/EC 죄송/XR 별로/MAG 에/JKB 요/NNG 한통/NNP 꾸역꾸역/MAG 비우/VV 고/EC 두통/NNG 째/XSN 쓰/VV 고/EC 있/VX 는데/EC 힘들/VA 네요/EC ㅎ/NA 아니/VCN 에요/EC 눈/NNG 에/JKB 들어가/VV ㄴ/ETM 적/NNB 은/JX 없/VA 어서/EC 따갑/VA ㄴ/ETM 것/NNB 까지/JX ㄴ/JX 모르/VV 겠/EP 어요/EC 제/XPN 생각/NNG 이/VCP ㄴ지/EC 모르/VV 겠/EP 지만/EC 아리땁/VA ㅁ/ETN 에/JKB 서/VV 어/EC 마몽드/NNP 밑/NNG 이/VCP 라고/EC 생각/NNG 하/XSV 는/ETM 아리땁/VA ㅁ/ETN 붙/VV 은/ETM 제품/NNG 은/JX 이제/MAG 안/MAG 살/VV 렵니다/EC 싸/VA ㄴ/ETM 건/NNB 좋/VA 지만/EC ,/SP 싸/VV 다고/EC 다/MAG 좋/VA 은/ETM 건/NNB 아니/VCN 더라구요/EF ./SF 차라리/MAG 비슷/XR 하/XSA ㄴ/ETM 가격/NNG 대/XSN 의/JKG 타/MM 브랜드/NNG 것/NNB 을/JKO 살/VV 는/ETM 게/EC 실패/NNG 하/XSV 지/EC 않/VX 는/ETM 것/NNB 같/VA 아서요/EC 아리땁/VA ㅁ/ETN 미안/XR \n",
      "**************************************************\n",
      "며칠 써본지 얼마 안됬지만 그래서 그런지 다른분들처럼 눈이시리거나 따갑진 않았어요! 생각보다 쓱쓱 잘지워져서 놀랐습니다 가끔 반값세일하는데 그때 사시는걸 추천드려요!\n",
      "며칠/NNG 쓰/VV 어/EC 보/VX ㄴ지/EC 얼마/NNG 안됬지만/NA 그래서/MAJ 그렇/VA ㄴ지/EC 다른/MM 분/NNB 들/XSN 처럼/JKB 눈/NNG 이/JKS 시리/VA 거나/EC 따갑/VA 지/EC ㄴ/JX 않/VX 았/EP 어요/EF !/SF 생각/NNG 보다/JKB 쓱쓱/MAG 잘/MAG 지우/VV 어/EC 지/VX 어서/EC 놀라/VV 았/EP 습니다/EC 가끔/MAG 반값/NNG 세일/NNG 하/XSV 는데/EC 그때/NNG 살/VV 시/EP 는/ETM 것/NNB ㄹ/JKO 추천/NNG 드리/VV 어요/EF !/SF \n",
      "**************************************************\n",
      "아리따움에서 원플러스원할 때 샀는데 퍽퍽 솜에 묻혀서 쓰지 않는데도 눈에 들어가면 저어어엉말 눈 시렵고 아프고 충혈되는 날이 너무 많아서 버렸어요..\n",
      "아리땁/VA ㅁ/ETN 에서/JKB 원/NNB 플러스/NNG 원하/VV ㄹ/ETM 때/NNG 사/VV 았/EP 는데/EC 퍽퍽/MAG 솜/NNG 에/JKB 묻히/VV 어서/EC 쓰/VV 지/EC 않/VX 는데/EC 도/JX 눈/NNG 에/JKB 들어가/VV 면/EC 저어/NNG 어/NNG 엉/NNG 말/NNG 눈/NNG 시렵/VA 고/EC 아프/VA 고/EC 충혈/NNG 되/XSV 는/ETM 날/NNG 이/JKS 너무/MAG 많/VA 아서/EC 버리/VX 었/EP 어요/EF ./SF ./SF \n",
      "**************************************************\n",
      "가성비 괜찮고 순한듯 하나 눈에 쫌 드가면 ㅋ따가워용 ㅠㅠㅋㅋ\n",
      "가/XPN 성비/NNG 괜찮/VA 고/EC 순하/VA ㄴ듯/EC 하나/NR 눈/NNG 에/JKB 쪼/VV ㅁ/ETN 드가/NNP 이/VCP 면/EC ㅋ따가워용/NA ㅠㅠㅋㅋ/NA \n",
      "**************************************************\n",
      "세정력은 중간인데 눈에 들어가면 마이아이즈!!! 하면서 욕나온다\n",
      "세/MM 정력/NNG 은/JX 중간/NNG 이/VCP ㄴ데/EC 눈/NNG 에/JKB 들어가/VV 면/EC 마이/NNG 아이즈/NNG !/SF !/SF !/SF 하/VV 면서/EC 욕/NNG 나오/VV ㄴ다/EC \n",
      "**************************************************\n",
      "좋긴한데 엄청난 세정력을 갖고 있진 않음..\n",
      "좋/VA 기/ETN ㄴ/JX 하/VV ㄴ데/EC 엄청나/VA ㄴ/ETM 세/MM 정력/NNG 을/JKO 갖/VV 고/EC 있/VV 지/EC ㄴ/JX 않/VX 음/ETN ./SF ./SF \n",
      "**************************************************\n",
      "친구가 괜찮대서 샀는데 세일할때 사면 정말 괜찮긴해요 근데 눈에 들어가면 넘나 따갑ㅠㅠ 지워지긴 잘지워져요\n",
      "친구/NNG 가/JKS 괜찮/VA 대서/EC 사/VV 았/EP 는데/EC 세일/NNG 하/XSV ㄹ/ETM 때/NNG 사면/NNG 정말/MAG 괜찮/VA 기/ETN ㄴ/JX 하/VV 아요/EC 근데/MAJ 눈/NNG 에/JKB 들어가/VV 면/EC 넘/VV 나/EC 따가뷰ㅠ/NA 지우/VV 어/EC 지/VX 기/ETN ㄴ/JX 잘/MAG 지우/VV 어/EC 지/VX 어요/EC \n",
      "**************************************************\n",
      "나쁘지도 않고 딱히 좋지도 않은 제품이었어요 근데 눈에 들어가면 이건 저어어어어엉말 따갑습니다 :(\n",
      "나쁘/VA 지/EC 도/JX 않/VX 고/EC 딱히/MAG 좋/VA 지/EC 도/JX 않/VX 은/ETM 제품/NNG 이/VCP 었/EP 어요/EC 근데/MAJ 눈/NNG 에/JKB 들어가/VV 면/EC 이것/NP ㄴ/JX 저어/IC 어/IC 어어/IC 엉/IC 말/NNB 따갑/VA 습니다/EC :/SP (/SS \n",
      "**************************************************\n",
      "전 이거 잘안지워지던데요..\n",
      "예전에 괜찮다해서 구매했는데 억지로 사용했네요\n",
      "다시 구매 절대 안할 것 같아요\n",
      "같은 라인 제품도 구매하기 꺼려지네요\n",
      "전/MM 이것/NP 잘/MAG 안/MAG 지우/VV 어/EC 지/VX 던데요/EF ./SF ./SF 예전/NNG 에/JKB 괜찮/VA 다/EC 하/VX 아서/EC 구매/NNG 하/XSV 았/EP 는데/EC 억지로/MAG 사용/NNG 하/XSV 았/EP 네요/EC 다시/MAG 구매/NNG 절대/NNG 안/NNG 하/XSV ㄹ/ETM 것/NNB 같/VA 아요/EC 같/VA 은/ETM 라인/NNG 제품/NNG 도/JX 구매/NNG 하/XSV 기/ETN 꺼리/VV 어/EC 지/VX 네요/EC \n",
      "**************************************************\n",
      "세정력은 괜찮은 것 같은데 눈에 들어가면 진짜 따가워요ㅋㅋㅋ 그치만 50퍼 할때 내가 다섯개나 샀으니... 이겨내고 써야죠ㅋㅋㅋ\n",
      "세/MM 정력/NNG 은/JX 괜찮/VA 은/ETM 것/NNB 같/VA 은데/EC 눈/NNG 에/JKB 들어가/VV 면/EC 진짜/MAG 따가워욬ㅋㅋ/NA 그치/NP 만/JX 50/SN 푸/VV 어/EC 하/VV ㄹ/ETM 때/NNG 내/NP 가/JKS 다섯/NR 개/NNB 나/JX 사/VV 았/EP 으니/EC .../SE 이기/VV 어/EC 내/VX 고/EC 써야죸ㅋㅋ/NA \n",
      "**************************************************\n",
      "잘지워지는데 나는 개인적으러 이거로 지우면 눈주변이 엄청 따가웟음\n",
      "잘/MAG 지우/VV 어/EC 지/VX 는데/EC 나/NP 는/JX 개인/NNG 적/VA 으러/EC 이것/NP 로/JKB 지우/VV 면/EC 눈/NNG 주변/NNG 이/JKS 엄청/MAG 따갑/VA 엇/EP 음/ETN \n"
     ]
    }
   ],
   "source": [
    "for i in range(len(g_review[:20])) : \n",
    "    print(\"*\"  * 50)\n",
    "    print(g_review[i])\n",
    "    string = \"\"\n",
    "    for word, pos in komoran.pos(g_review[i]) : \n",
    "        string += word+\"/\"+ pos + \" \"\n",
    "    print(string)"
   ]
  }
 ],
 "metadata": {
  "kernelspec": {
   "display_name": "Python 3",
   "language": "python",
   "name": "python3"
  },
  "language_info": {
   "codemirror_mode": {
    "name": "ipython",
    "version": 3
   },
   "file_extension": ".py",
   "mimetype": "text/x-python",
   "name": "python",
   "nbconvert_exporter": "python",
   "pygments_lexer": "ipython3",
   "version": "3.6.3"
  }
 },
 "nbformat": 4,
 "nbformat_minor": 2
}
