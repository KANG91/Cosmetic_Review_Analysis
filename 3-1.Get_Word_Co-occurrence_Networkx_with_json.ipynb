{
 "cells": [
  {
   "cell_type": "code",
   "execution_count": 1,
   "metadata": {},
   "outputs": [],
   "source": [
    "import json\n",
    "from konlpy.tag import Komoran"
   ]
  },
  {
   "cell_type": "code",
   "execution_count": 2,
   "metadata": {},
   "outputs": [],
   "source": [
    "import re"
   ]
  },
  {
   "cell_type": "code",
   "execution_count": 3,
   "metadata": {},
   "outputs": [],
   "source": [
    "json_ls = []\n",
    "\n",
    "with open(\"./reviews_after_del_similar.txt\", \"r\", encoding = \"utf-8\") as input_file : \n",
    "    for line in input_file : \n",
    "        datum = json.loads(line)\n",
    "        json_ls.append(datum)"
   ]
  },
  {
   "cell_type": "code",
   "execution_count": 4,
   "metadata": {},
   "outputs": [
    {
     "data": {
      "text/plain": [
       "5977"
      ]
     },
     "execution_count": 4,
     "metadata": {},
     "output_type": "execute_result"
    }
   ],
   "source": [
    "len(json_ls[0])"
   ]
  },
  {
   "cell_type": "code",
   "execution_count": 5,
   "metadata": {},
   "outputs": [],
   "source": [
    "def split_sentences(text):\n",
    "    all_sentences = []\n",
    "    lines = [line for line in text.strip().splitlines() if line.strip()]\n",
    "    for line in lines:\n",
    "        sentences = re.split(\"(?<=[.?!])\\s+\", line.strip())\n",
    "        all_sentences += sentences\n",
    "    return all_sentences"
   ]
  },
  {
   "cell_type": "code",
   "execution_count": 6,
   "metadata": {},
   "outputs": [],
   "source": [
    "def review_to_morph_anal(start, end) : \n",
    "    \"\"\"\n",
    "    input : json 형태\n",
    "    output :  json 형태\n",
    "    \n",
    "    \"\"\"\n",
    "    \n",
    "    result = []\n",
    "    \n",
    "    \n",
    "    for idx, all_info in enumerate(json_ls[0][start : end]) : \n",
    "        review = all_info[\"review\"] \n",
    "        splited_sentence = split_sentences(review)\n",
    "        for splited in splited_sentence :\n",
    "            if len(splited) == 0 :\n",
    "                continue\n",
    "            morph_sentence = komoran.pos(splited.strip())\n",
    "            morph_dic = {word : morph for word, morph in morph_sentence}\n",
    "        \n",
    "        result.append(morph_dic)\n",
    "    return result"
   ]
  },
  {
   "cell_type": "code",
   "execution_count": 7,
   "metadata": {},
   "outputs": [],
   "source": [
    "komoran = Komoran()"
   ]
  },
  {
   "cell_type": "code",
   "execution_count": null,
   "metadata": {},
   "outputs": [],
   "source": [
    "analyzed_reviews = review_to_morph_anal(0, 6000)"
   ]
  },
  {
   "cell_type": "code",
   "execution_count": null,
   "metadata": {},
   "outputs": [],
   "source": []
  }
 ],
 "metadata": {
  "kernelspec": {
   "display_name": "Python 3",
   "language": "python",
   "name": "python3"
  },
  "language_info": {
   "codemirror_mode": {
    "name": "ipython",
    "version": 3
   },
   "file_extension": ".py",
   "mimetype": "text/x-python",
   "name": "python",
   "nbconvert_exporter": "python",
   "pygments_lexer": "ipython3",
   "version": "3.6.5"
  }
 },
 "nbformat": 4,
 "nbformat_minor": 2
}
